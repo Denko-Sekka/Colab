{
  "nbformat": 4,
  "nbformat_minor": 0,
  "metadata": {
    "colab": {
      "name": "Iris Dataset with Altair viz.ipynb",
      "provenance": [],
      "collapsed_sections": [],
      "toc_visible": true
    },
    "kernelspec": {
      "name": "python3",
      "display_name": "Python 3"
    }
  },
  "cells": [
    {
      "cell_type": "code",
      "metadata": {
        "id": "GC820IALp7CU",
        "colab_type": "code",
        "colab": {}
      },
      "source": [
        "## Install utilities\n",
        "# !pip install pandas\n",
        "# !pip install numpy\n",
        "# !pip install tensorflow\n",
        "# !pip install matplotlib\n",
        "# !pip install altair\n",
        "# !pip install sklearn\n",
        "\n",
        "## Update utilities\n",
        "# !pip install -q pandas\n",
        "# !pip install -q numpy\n",
        "# !pip install -q tensorflow\n",
        "# !pip install -q matplotlib\n",
        "# !pip install -q altair\n",
        "# !pip install -q sklearn"
      ],
      "execution_count": 0,
      "outputs": []
    },
    {
      "cell_type": "code",
      "metadata": {
        "id": "oOoYpJT9iFsB",
        "colab_type": "code",
        "outputId": "3515a786-50bd-467d-f59d-1b89d64a16fa",
        "colab": {
          "base_uri": "https://localhost:8080/",
          "height": 35
        }
      },
      "source": [
        "import pandas as pd\n",
        "import numpy as np\n",
        "import tensorflow as tf\n",
        "\n",
        "print(pd.__version__)\n",
        "\n",
        "## allows intellisense-like feel to the notebook\n",
        "%config IPCompleter.greedy=True\n",
        "## Used by matplotlib to remove duplicate legend handles\n",
        "from collections import OrderedDict\n",
        "## used for interactive charts\n",
        "import altair as alt\n",
        "\n",
        "## converts the dictionary from google.colab's upload file into a stream\n",
        "import io\n",
        "from sklearn.datasets import load_iris"
      ],
      "execution_count": 11,
      "outputs": [
        {
          "output_type": "stream",
          "text": [
            "0.25.3\n"
          ],
          "name": "stdout"
        }
      ]
    },
    {
      "cell_type": "markdown",
      "metadata": {
        "id": "hBVG3XhMS_un",
        "colab_type": "text"
      },
      "source": [
        "# Read the Iris Dataset and insert to pandas dataframe"
      ]
    },
    {
      "cell_type": "code",
      "metadata": {
        "id": "skQC2aARqTYo",
        "colab_type": "code",
        "colab": {}
      },
      "source": [
        "iris = load_iris()\n",
        "# np.c_ is the numpy concatenate function\n",
        "# which is used to concat iris['data'] and iris['target'] arrays \n",
        "# for pandas column argument: concat iris['feature_names'] list\n",
        "# and string list (in this case one string); you can make this anything you'd like..  \n",
        "# the original dataset would probably call this ['Species']\n",
        "frame = pd.DataFrame(data= np.c_[iris['data'], iris['target']],\n",
        "                     columns= iris['feature_names'] + ['target'])\n",
        "\n",
        "frame['target'] = frame['target'].astype(np.int8)"
      ],
      "execution_count": 0,
      "outputs": []
    },
    {
      "cell_type": "code",
      "metadata": {
        "id": "RljTUhOorYx4",
        "colab_type": "code",
        "colab": {
          "base_uri": "https://localhost:8080/",
          "height": 206
        },
        "outputId": "fc0d0843-8363-4c36-94d8-9197d584c59c"
      },
      "source": [
        "frame.head()"
      ],
      "execution_count": 123,
      "outputs": [
        {
          "output_type": "execute_result",
          "data": {
            "text/html": [
              "<div>\n",
              "<style scoped>\n",
              "    .dataframe tbody tr th:only-of-type {\n",
              "        vertical-align: middle;\n",
              "    }\n",
              "\n",
              "    .dataframe tbody tr th {\n",
              "        vertical-align: top;\n",
              "    }\n",
              "\n",
              "    .dataframe thead th {\n",
              "        text-align: right;\n",
              "    }\n",
              "</style>\n",
              "<table border=\"1\" class=\"dataframe\">\n",
              "  <thead>\n",
              "    <tr style=\"text-align: right;\">\n",
              "      <th></th>\n",
              "      <th>sepal length (cm)</th>\n",
              "      <th>sepal width (cm)</th>\n",
              "      <th>petal length (cm)</th>\n",
              "      <th>petal width (cm)</th>\n",
              "      <th>target</th>\n",
              "    </tr>\n",
              "  </thead>\n",
              "  <tbody>\n",
              "    <tr>\n",
              "      <th>0</th>\n",
              "      <td>5.1</td>\n",
              "      <td>3.5</td>\n",
              "      <td>1.4</td>\n",
              "      <td>0.2</td>\n",
              "      <td>0</td>\n",
              "    </tr>\n",
              "    <tr>\n",
              "      <th>1</th>\n",
              "      <td>4.9</td>\n",
              "      <td>3.0</td>\n",
              "      <td>1.4</td>\n",
              "      <td>0.2</td>\n",
              "      <td>0</td>\n",
              "    </tr>\n",
              "    <tr>\n",
              "      <th>2</th>\n",
              "      <td>4.7</td>\n",
              "      <td>3.2</td>\n",
              "      <td>1.3</td>\n",
              "      <td>0.2</td>\n",
              "      <td>0</td>\n",
              "    </tr>\n",
              "    <tr>\n",
              "      <th>3</th>\n",
              "      <td>4.6</td>\n",
              "      <td>3.1</td>\n",
              "      <td>1.5</td>\n",
              "      <td>0.2</td>\n",
              "      <td>0</td>\n",
              "    </tr>\n",
              "    <tr>\n",
              "      <th>4</th>\n",
              "      <td>5.0</td>\n",
              "      <td>3.6</td>\n",
              "      <td>1.4</td>\n",
              "      <td>0.2</td>\n",
              "      <td>0</td>\n",
              "    </tr>\n",
              "  </tbody>\n",
              "</table>\n",
              "</div>"
            ],
            "text/plain": [
              "   sepal length (cm)  sepal width (cm)  ...  petal width (cm)  target\n",
              "0                5.1               3.5  ...               0.2       0\n",
              "1                4.9               3.0  ...               0.2       0\n",
              "2                4.7               3.2  ...               0.2       0\n",
              "3                4.6               3.1  ...               0.2       0\n",
              "4                5.0               3.6  ...               0.2       0\n",
              "\n",
              "[5 rows x 5 columns]"
            ]
          },
          "metadata": {
            "tags": []
          },
          "execution_count": 123
        }
      ]
    },
    {
      "cell_type": "markdown",
      "metadata": {
        "id": "0qDp20OaHtuu",
        "colab_type": "text"
      },
      "source": [
        "# HELPER FUNCTIONS"
      ]
    },
    {
      "cell_type": "code",
      "metadata": {
        "id": "g5gBUGVoHtRz",
        "colab_type": "code",
        "colab": {}
      },
      "source": [
        "def complexCharts(frame: pd.DataFrame, col : 'List[string]') -> list:\n",
        "  '''\n",
        "  What it does: It feeds the selected(samples inside the selected x-interval) samples from chart1 to chart2,\n",
        "  chart 2 to chart 3, ... so on and so forth, this effectively culls to how the user wishes.\n",
        "\n",
        "  What it's for: Threshold based classification modeling -> you have a data set is already classified as class 1, 2, 3, 4...,etc\n",
        "  presumambly the class is the last column.\n",
        "\n",
        "  How this works: First, the brushes can be passed to the charts as boolean operations\n",
        "  For example:\n",
        "  '''\n",
        "  if(frame is None):\n",
        "    print('Brushcount is 0 or frame is null, returning')\n",
        "    return\n",
        "\n",
        "  _maxlen = len(col)\n",
        "  brush_lst = []\n",
        "  chart_lst = []\n",
        "  class_id_lst = []\n",
        "  _classification = frame.columns[-1]\n",
        "\n",
        "  # setup class_id_lst, each list item 'i' displays the count of 'class_i'\n",
        "  # for example: should we select 50 class_0, and 25 class_1, our class counter object will display 50, 25\n",
        "  for class_id in frame[_classification].unique():\n",
        "    class_id_lst.append(alt.Chart(frame[frame[_classification] == class_id]).mark_text().encode(\n",
        "    y=alt.Y('count:O',axis=None), text = 'count():N', key = _classification\n",
        "    ).properties(title = 'Class_'+str(class_id) +'Count'))\n",
        "\n",
        "  # setup brushes_lst, the number of brushes == number of feature columns\n",
        "  # This will be used to create a the boolean brush selection concatenation altair viz uses\n",
        "  for i in range(_maxlen):\n",
        "    brush_lst.append(alt.selection_interval(encodings=['x']))\n",
        "  chart_lst.append(alt.Chart(frame).mark_circle(opacity = 0.2, size = 100).encode(\n",
        "    x = col[0] + ':Q',\n",
        "    y = alt.Y(_classification + ':N', title = 'Target ID'),\n",
        "    color = alt.condition(brush_lst[0], _classification+':N', alt.value('lightgray'), legend = None),\n",
        "  ))\n",
        "\n",
        "  # the first chart only uses brush[0], needs to be setup\n",
        "  chart_lst[0] = chart_lst[0].add_selection(\n",
        "      brush_lst[0]\n",
        "      )\n",
        "\n",
        "  # sets up the charts to use boolean brushes\n",
        "  # example chart[0] = brush[0], chart1 = brush[0] & brush[1], chart2 = brush[0] & brush[1] & brush[2]\n",
        "  pbrush_lst = [brush_lst[0]]\n",
        "  for i in range(1, _maxlen):\n",
        "    pbrush_lst.append(pbrush_lst[i-1] & brush_lst[i])\n",
        "    chart_lst.append(alt.Chart(frame).mark_circle(opacity = 0.2, size = 100).encode(\n",
        "    x = col[i] + ':Q',\n",
        "    y = alt.Y(_classification+':N', title = 'Target ID'),\n",
        "    color = alt.condition(brush_lst[i], _classification+':N', alt.value('lightgray'), legend = None),\n",
        "  ).add_selection(\n",
        "    brush_lst[i]\n",
        "  ).transform_filter(\n",
        "      pbrush_lst[i-1]\n",
        "  )\n",
        "  )\n",
        "  \n",
        "  # Concatenates the plot, with the counter objects\n",
        "  # essentially => (display of selection chart) (display of class count)\n",
        "  for i in range(_maxlen):\n",
        "    class_counter_lst = [class_id_lst[0].transform_filter(pbrush_lst[i])]\n",
        "    for j in range(1,len(class_id_lst)):\n",
        "      current = class_counter_lst.pop() & class_id_lst[j].transform_filter(pbrush_lst[i])\n",
        "      class_counter_lst.append(current)\n",
        "    chart_lst[i] = chart_lst[i] | (class_counter_lst[0])\n",
        "  return chart_lst\n",
        "\n",
        "def removeColumn(frame : pd.DataFrame, columnsToRemove : 'List[string]') -> pd.DataFrame:\n",
        "  '''\n",
        "  Peturns a dataframe without the listed columns.\n",
        "  '''\n",
        "  if frame is None:\n",
        "    print('Frame is null')\n",
        "    return None\n",
        "  if columnsToRemove is None or len(columnsToRemove) == 0:\n",
        "    return frame\n",
        "  for c in columnsToRemove:\n",
        "      if c in frame.columns:\n",
        "          frame = frame.drop(c, 1)\n",
        "  return frame"
      ],
      "execution_count": 0,
      "outputs": []
    },
    {
      "cell_type": "markdown",
      "metadata": {
        "id": "RmVXzNWpSaKo",
        "colab_type": "text"
      },
      "source": [
        "# Remove unwanted columns"
      ]
    },
    {
      "cell_type": "code",
      "metadata": {
        "id": "WIOXq3kr6qls",
        "colab_type": "code",
        "colab": {}
      },
      "source": [
        "# add a to the list, column names to remove\n",
        "columnsToRemove = []\n",
        "frame = removeColumn(frame, columnsToRemove)"
      ],
      "execution_count": 0,
      "outputs": []
    },
    {
      "cell_type": "markdown",
      "metadata": {
        "id": "79UGqYx7AGAB",
        "colab_type": "text"
      },
      "source": [
        "# Ordered Correlation Table"
      ]
    },
    {
      "cell_type": "code",
      "metadata": {
        "id": "QEfjq-236znD",
        "colab_type": "code",
        "colab": {
          "base_uri": "https://localhost:8080/",
          "height": 81
        },
        "outputId": "6535bcd7-7b35-434e-e2ea-7a5e8c8fae62"
      },
      "source": [
        "sorted_corr_frame = pd.DataFrame(frame.corr()['target'].iloc[frame.corr()['target'].abs().argsort()][::-1])\n",
        "corrframe = sorted_corr_frame[1:].transpose()\n",
        "corrframe"
      ],
      "execution_count": 154,
      "outputs": [
        {
          "output_type": "execute_result",
          "data": {
            "text/html": [
              "<div>\n",
              "<style scoped>\n",
              "    .dataframe tbody tr th:only-of-type {\n",
              "        vertical-align: middle;\n",
              "    }\n",
              "\n",
              "    .dataframe tbody tr th {\n",
              "        vertical-align: top;\n",
              "    }\n",
              "\n",
              "    .dataframe thead th {\n",
              "        text-align: right;\n",
              "    }\n",
              "</style>\n",
              "<table border=\"1\" class=\"dataframe\">\n",
              "  <thead>\n",
              "    <tr style=\"text-align: right;\">\n",
              "      <th></th>\n",
              "      <th>petal width (cm)</th>\n",
              "      <th>petal length (cm)</th>\n",
              "      <th>sepal length (cm)</th>\n",
              "      <th>sepal width (cm)</th>\n",
              "    </tr>\n",
              "  </thead>\n",
              "  <tbody>\n",
              "    <tr>\n",
              "      <th>target</th>\n",
              "      <td>0.956547</td>\n",
              "      <td>0.949035</td>\n",
              "      <td>0.782561</td>\n",
              "      <td>-0.426658</td>\n",
              "    </tr>\n",
              "  </tbody>\n",
              "</table>\n",
              "</div>"
            ],
            "text/plain": [
              "        petal width (cm)  ...  sepal width (cm)\n",
              "target          0.956547  ...         -0.426658\n",
              "\n",
              "[1 rows x 4 columns]"
            ]
          },
          "metadata": {
            "tags": []
          },
          "execution_count": 154
        }
      ]
    },
    {
      "cell_type": "markdown",
      "metadata": {
        "id": "BZ3LpXcDv-WC",
        "colab_type": "text"
      },
      "source": [
        "# Classifier with thresholding chart"
      ]
    },
    {
      "cell_type": "code",
      "metadata": {
        "id": "d-cRbowTwntU",
        "colab_type": "code",
        "outputId": "b68990d8-6637-4137-b4f6-e5ec7ff3e18c",
        "colab": {
          "base_uri": "https://localhost:8080/",
          "height": 829
        }
      },
      "source": [
        "col = corrframe.columns.to_list()\n",
        "print('Top(start) bottom(end)')\n",
        "print('\\n')\n",
        "print('You have to select boundaries at the very top chart first, \\n then consecutively move down')\n",
        "test = complexCharts(frame, col)\n",
        "t = test[0]\n",
        "for i in range(1, len(col)):\n",
        "  t &= test[i]\n",
        "t"
      ],
      "execution_count": 150,
      "outputs": [
        {
          "output_type": "stream",
          "text": [
            "Top(start) bottom(end)\n",
            "\n",
            "\n",
            "You have to select boundaries at the very top chart first, \n",
            " then the next chart, rinse and repeat\n",
            "gets here 0\n"
          ],
          "name": "stdout"
        },
        {
          "output_type": "execute_result",
          "data": {
            "text/plain": [
              "alt.VConcatChart(...)"
            ],
            "text/html": [
              "\n",
              "<div id=\"altair-viz-00f4b0db4849492892654baeb726038c\"></div>\n",
              "<script type=\"text/javascript\">\n",
              "  (function(spec, embedOpt){\n",
              "    const outputDiv = document.getElementById(\"altair-viz-00f4b0db4849492892654baeb726038c\");\n",
              "    const paths = {\n",
              "      \"vega\": \"https://cdn.jsdelivr.net/npm//vega@5?noext\",\n",
              "      \"vega-lib\": \"https://cdn.jsdelivr.net/npm//vega-lib?noext\",\n",
              "      \"vega-lite\": \"https://cdn.jsdelivr.net/npm//vega-lite@4.0.2?noext\",\n",
              "      \"vega-embed\": \"https://cdn.jsdelivr.net/npm//vega-embed@6?noext\",\n",
              "    };\n",
              "\n",
              "    function loadScript(lib) {\n",
              "      return new Promise(function(resolve, reject) {\n",
              "        var s = document.createElement('script');\n",
              "        s.src = paths[lib];\n",
              "        s.async = true;\n",
              "        s.onload = () => resolve(paths[lib]);\n",
              "        s.onerror = () => reject(`Error loading script: ${paths[lib]}`);\n",
              "        document.getElementsByTagName(\"head\")[0].appendChild(s);\n",
              "      });\n",
              "    }\n",
              "\n",
              "    function showError(err) {\n",
              "      outputDiv.innerHTML = `<div class=\"error\" style=\"color:red;\">${err}</div>`;\n",
              "      throw err;\n",
              "    }\n",
              "\n",
              "    function displayChart(vegaEmbed) {\n",
              "      vegaEmbed(outputDiv, spec, embedOpt)\n",
              "        .catch(err => showError(`Javascript Error: ${err.message}<br>This usually means there's a typo in your chart specification. See the javascript console for the full traceback.`));\n",
              "    }\n",
              "\n",
              "    if(typeof define === \"function\" && define.amd) {\n",
              "      requirejs.config({paths});\n",
              "      require([\"vega-embed\"], displayChart, err => showError(`Error loading script: ${err.message}`));\n",
              "    } else if (typeof vegaEmbed === \"function\") {\n",
              "      displayChart(vegaEmbed);\n",
              "    } else {\n",
              "      loadScript(\"vega\")\n",
              "        .then(() => loadScript(\"vega-lite\"))\n",
              "        .then(() => loadScript(\"vega-embed\"))\n",
              "        .catch(showError)\n",
              "        .then(() => displayChart(vegaEmbed));\n",
              "    }\n",
              "  })({\"config\": {\"view\": {\"continuousWidth\": 400, \"continuousHeight\": 300}}, \"vconcat\": [{\"hconcat\": [{\"data\": {\"name\": \"data-6b7a59183ffc9eb303b21de920314fdd\"}, \"mark\": {\"type\": \"circle\", \"opacity\": 0.2, \"size\": 100}, \"encoding\": {\"color\": {\"condition\": {\"type\": \"nominal\", \"field\": \"target\", \"legend\": null, \"selection\": \"selector175\"}, \"value\": \"lightgray\"}, \"x\": {\"type\": \"quantitative\", \"field\": \"petal width (cm)\"}, \"y\": {\"type\": \"nominal\", \"field\": \"target\", \"title\": \"Target ID\"}}, \"selection\": {\"selector175\": {\"type\": \"interval\", \"encodings\": [\"x\"]}}}, {\"vconcat\": [{\"data\": {\"name\": \"data-e1807c03a4cd44aa388fcfce5b7102b2\"}, \"mark\": \"text\", \"encoding\": {\"key\": {\"type\": \"quantitative\", \"field\": \"target\"}, \"text\": {\"type\": \"nominal\", \"aggregate\": \"count\"}, \"y\": {\"type\": \"ordinal\", \"axis\": null, \"field\": \"count\"}}, \"title\": \"Class_0Count\", \"transform\": [{\"filter\": {\"selection\": \"selector175\"}}]}, {\"data\": {\"name\": \"data-cdd8bcd9511d6bc16d875782c3ae9a84\"}, \"mark\": \"text\", \"encoding\": {\"key\": {\"type\": \"quantitative\", \"field\": \"target\"}, \"text\": {\"type\": \"nominal\", \"aggregate\": \"count\"}, \"y\": {\"type\": \"ordinal\", \"axis\": null, \"field\": \"count\"}}, \"title\": \"Class_1Count\", \"transform\": [{\"filter\": {\"selection\": \"selector175\"}}]}, {\"data\": {\"name\": \"data-e5411bd19f6ffe3ad9fa9a9c10eb4855\"}, \"mark\": \"text\", \"encoding\": {\"key\": {\"type\": \"quantitative\", \"field\": \"target\"}, \"text\": {\"type\": \"nominal\", \"aggregate\": \"count\"}, \"y\": {\"type\": \"ordinal\", \"axis\": null, \"field\": \"count\"}}, \"title\": \"Class_2Count\", \"transform\": [{\"filter\": {\"selection\": \"selector175\"}}]}]}]}, {\"hconcat\": [{\"data\": {\"name\": \"data-6b7a59183ffc9eb303b21de920314fdd\"}, \"mark\": {\"type\": \"circle\", \"opacity\": 0.2, \"size\": 100}, \"encoding\": {\"color\": {\"condition\": {\"type\": \"nominal\", \"field\": \"target\", \"legend\": null, \"selection\": \"selector176\"}, \"value\": \"lightgray\"}, \"x\": {\"type\": \"quantitative\", \"field\": \"petal length (cm)\"}, \"y\": {\"type\": \"nominal\", \"field\": \"target\", \"title\": \"Target ID\"}}, \"selection\": {\"selector176\": {\"type\": \"interval\", \"encodings\": [\"x\"]}}, \"transform\": [{\"filter\": {\"selection\": \"selector175\"}}]}, {\"vconcat\": [{\"data\": {\"name\": \"data-e1807c03a4cd44aa388fcfce5b7102b2\"}, \"mark\": \"text\", \"encoding\": {\"key\": {\"type\": \"quantitative\", \"field\": \"target\"}, \"text\": {\"type\": \"nominal\", \"aggregate\": \"count\"}, \"y\": {\"type\": \"ordinal\", \"axis\": null, \"field\": \"count\"}}, \"title\": \"Class_0Count\", \"transform\": [{\"filter\": {\"selection\": {\"and\": [\"selector175\", \"selector176\"]}}}]}, {\"data\": {\"name\": \"data-cdd8bcd9511d6bc16d875782c3ae9a84\"}, \"mark\": \"text\", \"encoding\": {\"key\": {\"type\": \"quantitative\", \"field\": \"target\"}, \"text\": {\"type\": \"nominal\", \"aggregate\": \"count\"}, \"y\": {\"type\": \"ordinal\", \"axis\": null, \"field\": \"count\"}}, \"title\": \"Class_1Count\", \"transform\": [{\"filter\": {\"selection\": {\"and\": [\"selector175\", \"selector176\"]}}}]}, {\"data\": {\"name\": \"data-e5411bd19f6ffe3ad9fa9a9c10eb4855\"}, \"mark\": \"text\", \"encoding\": {\"key\": {\"type\": \"quantitative\", \"field\": \"target\"}, \"text\": {\"type\": \"nominal\", \"aggregate\": \"count\"}, \"y\": {\"type\": \"ordinal\", \"axis\": null, \"field\": \"count\"}}, \"title\": \"Class_2Count\", \"transform\": [{\"filter\": {\"selection\": {\"and\": [\"selector175\", \"selector176\"]}}}]}]}]}, {\"hconcat\": [{\"data\": {\"name\": \"data-6b7a59183ffc9eb303b21de920314fdd\"}, \"mark\": {\"type\": \"circle\", \"opacity\": 0.2, \"size\": 100}, \"encoding\": {\"color\": {\"condition\": {\"type\": \"nominal\", \"field\": \"target\", \"legend\": null, \"selection\": \"selector177\"}, \"value\": \"lightgray\"}, \"x\": {\"type\": \"quantitative\", \"field\": \"sepal length (cm)\"}, \"y\": {\"type\": \"nominal\", \"field\": \"target\", \"title\": \"Target ID\"}}, \"selection\": {\"selector177\": {\"type\": \"interval\", \"encodings\": [\"x\"]}}, \"transform\": [{\"filter\": {\"selection\": {\"and\": [\"selector175\", \"selector176\"]}}}]}, {\"vconcat\": [{\"data\": {\"name\": \"data-e1807c03a4cd44aa388fcfce5b7102b2\"}, \"mark\": \"text\", \"encoding\": {\"key\": {\"type\": \"quantitative\", \"field\": \"target\"}, \"text\": {\"type\": \"nominal\", \"aggregate\": \"count\"}, \"y\": {\"type\": \"ordinal\", \"axis\": null, \"field\": \"count\"}}, \"title\": \"Class_0Count\", \"transform\": [{\"filter\": {\"selection\": {\"and\": [{\"and\": [\"selector175\", \"selector176\"]}, \"selector177\"]}}}]}, {\"data\": {\"name\": \"data-cdd8bcd9511d6bc16d875782c3ae9a84\"}, \"mark\": \"text\", \"encoding\": {\"key\": {\"type\": \"quantitative\", \"field\": \"target\"}, \"text\": {\"type\": \"nominal\", \"aggregate\": \"count\"}, \"y\": {\"type\": \"ordinal\", \"axis\": null, \"field\": \"count\"}}, \"title\": \"Class_1Count\", \"transform\": [{\"filter\": {\"selection\": {\"and\": [{\"and\": [\"selector175\", \"selector176\"]}, \"selector177\"]}}}]}, {\"data\": {\"name\": \"data-e5411bd19f6ffe3ad9fa9a9c10eb4855\"}, \"mark\": \"text\", \"encoding\": {\"key\": {\"type\": \"quantitative\", \"field\": \"target\"}, \"text\": {\"type\": \"nominal\", \"aggregate\": \"count\"}, \"y\": {\"type\": \"ordinal\", \"axis\": null, \"field\": \"count\"}}, \"title\": \"Class_2Count\", \"transform\": [{\"filter\": {\"selection\": {\"and\": [{\"and\": [\"selector175\", \"selector176\"]}, \"selector177\"]}}}]}]}]}, {\"hconcat\": [{\"data\": {\"name\": \"data-6b7a59183ffc9eb303b21de920314fdd\"}, \"mark\": {\"type\": \"circle\", \"opacity\": 0.2, \"size\": 100}, \"encoding\": {\"color\": {\"condition\": {\"type\": \"nominal\", \"field\": \"target\", \"legend\": null, \"selection\": \"selector178\"}, \"value\": \"lightgray\"}, \"x\": {\"type\": \"quantitative\", \"field\": \"sepal width (cm)\"}, \"y\": {\"type\": \"nominal\", \"field\": \"target\", \"title\": \"Target ID\"}}, \"selection\": {\"selector178\": {\"type\": \"interval\", \"encodings\": [\"x\"]}}, \"transform\": [{\"filter\": {\"selection\": {\"and\": [{\"and\": [\"selector175\", \"selector176\"]}, \"selector177\"]}}}]}, {\"vconcat\": [{\"data\": {\"name\": \"data-e1807c03a4cd44aa388fcfce5b7102b2\"}, \"mark\": \"text\", \"encoding\": {\"key\": {\"type\": \"quantitative\", \"field\": \"target\"}, \"text\": {\"type\": \"nominal\", \"aggregate\": \"count\"}, \"y\": {\"type\": \"ordinal\", \"axis\": null, \"field\": \"count\"}}, \"title\": \"Class_0Count\", \"transform\": [{\"filter\": {\"selection\": {\"and\": [{\"and\": [{\"and\": [\"selector175\", \"selector176\"]}, \"selector177\"]}, \"selector178\"]}}}]}, {\"data\": {\"name\": \"data-cdd8bcd9511d6bc16d875782c3ae9a84\"}, \"mark\": \"text\", \"encoding\": {\"key\": {\"type\": \"quantitative\", \"field\": \"target\"}, \"text\": {\"type\": \"nominal\", \"aggregate\": \"count\"}, \"y\": {\"type\": \"ordinal\", \"axis\": null, \"field\": \"count\"}}, \"title\": \"Class_1Count\", \"transform\": [{\"filter\": {\"selection\": {\"and\": [{\"and\": [{\"and\": [\"selector175\", \"selector176\"]}, \"selector177\"]}, \"selector178\"]}}}]}, {\"data\": {\"name\": \"data-e5411bd19f6ffe3ad9fa9a9c10eb4855\"}, \"mark\": \"text\", \"encoding\": {\"key\": {\"type\": \"quantitative\", \"field\": \"target\"}, \"text\": {\"type\": \"nominal\", \"aggregate\": \"count\"}, \"y\": {\"type\": \"ordinal\", \"axis\": null, \"field\": \"count\"}}, \"title\": \"Class_2Count\", \"transform\": [{\"filter\": {\"selection\": {\"and\": [{\"and\": [{\"and\": [\"selector175\", \"selector176\"]}, \"selector177\"]}, \"selector178\"]}}}]}]}]}], \"$schema\": \"https://vega.github.io/schema/vega-lite/v4.0.2.json\", \"datasets\": {\"data-6b7a59183ffc9eb303b21de920314fdd\": [{\"sepal length (cm)\": 5.1, \"sepal width (cm)\": 3.5, \"petal length (cm)\": 1.4, \"petal width (cm)\": 0.2, \"target\": 0}, {\"sepal length (cm)\": 4.9, \"sepal width (cm)\": 3.0, \"petal length (cm)\": 1.4, \"petal width (cm)\": 0.2, \"target\": 0}, {\"sepal length (cm)\": 4.7, \"sepal width (cm)\": 3.2, \"petal length (cm)\": 1.3, \"petal width (cm)\": 0.2, \"target\": 0}, {\"sepal length (cm)\": 4.6, \"sepal width (cm)\": 3.1, \"petal length (cm)\": 1.5, \"petal width (cm)\": 0.2, \"target\": 0}, {\"sepal length (cm)\": 5.0, \"sepal width (cm)\": 3.6, \"petal length (cm)\": 1.4, \"petal width (cm)\": 0.2, \"target\": 0}, {\"sepal length (cm)\": 5.4, \"sepal width (cm)\": 3.9, \"petal length (cm)\": 1.7, \"petal width (cm)\": 0.4, \"target\": 0}, {\"sepal length (cm)\": 4.6, \"sepal width (cm)\": 3.4, \"petal length (cm)\": 1.4, \"petal width (cm)\": 0.3, \"target\": 0}, {\"sepal length (cm)\": 5.0, \"sepal width (cm)\": 3.4, \"petal length (cm)\": 1.5, \"petal width (cm)\": 0.2, \"target\": 0}, {\"sepal length (cm)\": 4.4, \"sepal width (cm)\": 2.9, \"petal length (cm)\": 1.4, \"petal width (cm)\": 0.2, \"target\": 0}, {\"sepal length (cm)\": 4.9, \"sepal width (cm)\": 3.1, \"petal length (cm)\": 1.5, \"petal width (cm)\": 0.1, \"target\": 0}, {\"sepal length (cm)\": 5.4, \"sepal width (cm)\": 3.7, \"petal length (cm)\": 1.5, \"petal width (cm)\": 0.2, \"target\": 0}, {\"sepal length (cm)\": 4.8, \"sepal width (cm)\": 3.4, \"petal length (cm)\": 1.6, \"petal width (cm)\": 0.2, \"target\": 0}, {\"sepal length (cm)\": 4.8, \"sepal width (cm)\": 3.0, \"petal length (cm)\": 1.4, \"petal width (cm)\": 0.1, \"target\": 0}, {\"sepal length (cm)\": 4.3, \"sepal width (cm)\": 3.0, \"petal length (cm)\": 1.1, \"petal width (cm)\": 0.1, \"target\": 0}, {\"sepal length (cm)\": 5.8, \"sepal width (cm)\": 4.0, \"petal length (cm)\": 1.2, \"petal width (cm)\": 0.2, \"target\": 0}, {\"sepal length (cm)\": 5.7, \"sepal width (cm)\": 4.4, \"petal length (cm)\": 1.5, \"petal width (cm)\": 0.4, \"target\": 0}, {\"sepal length (cm)\": 5.4, \"sepal width (cm)\": 3.9, \"petal length (cm)\": 1.3, \"petal width (cm)\": 0.4, \"target\": 0}, {\"sepal length (cm)\": 5.1, \"sepal width (cm)\": 3.5, \"petal length (cm)\": 1.4, \"petal width (cm)\": 0.3, \"target\": 0}, {\"sepal length (cm)\": 5.7, \"sepal width (cm)\": 3.8, \"petal length (cm)\": 1.7, \"petal width (cm)\": 0.3, \"target\": 0}, {\"sepal length (cm)\": 5.1, \"sepal width (cm)\": 3.8, \"petal length (cm)\": 1.5, \"petal width (cm)\": 0.3, \"target\": 0}, {\"sepal length (cm)\": 5.4, \"sepal width (cm)\": 3.4, \"petal length (cm)\": 1.7, \"petal width (cm)\": 0.2, \"target\": 0}, {\"sepal length (cm)\": 5.1, \"sepal width (cm)\": 3.7, \"petal length (cm)\": 1.5, \"petal width (cm)\": 0.4, \"target\": 0}, {\"sepal length (cm)\": 4.6, \"sepal width (cm)\": 3.6, \"petal length (cm)\": 1.0, \"petal width (cm)\": 0.2, \"target\": 0}, {\"sepal length (cm)\": 5.1, \"sepal width (cm)\": 3.3, \"petal length (cm)\": 1.7, \"petal width (cm)\": 0.5, \"target\": 0}, {\"sepal length (cm)\": 4.8, \"sepal width (cm)\": 3.4, \"petal length (cm)\": 1.9, \"petal width (cm)\": 0.2, \"target\": 0}, {\"sepal length (cm)\": 5.0, \"sepal width (cm)\": 3.0, \"petal length (cm)\": 1.6, \"petal width (cm)\": 0.2, \"target\": 0}, {\"sepal length (cm)\": 5.0, \"sepal width (cm)\": 3.4, \"petal length (cm)\": 1.6, \"petal width (cm)\": 0.4, \"target\": 0}, {\"sepal length (cm)\": 5.2, \"sepal width (cm)\": 3.5, \"petal length (cm)\": 1.5, \"petal width (cm)\": 0.2, \"target\": 0}, {\"sepal length (cm)\": 5.2, \"sepal width (cm)\": 3.4, \"petal length (cm)\": 1.4, \"petal width (cm)\": 0.2, \"target\": 0}, {\"sepal length (cm)\": 4.7, \"sepal width (cm)\": 3.2, \"petal length (cm)\": 1.6, \"petal width (cm)\": 0.2, \"target\": 0}, {\"sepal length (cm)\": 4.8, \"sepal width (cm)\": 3.1, \"petal length (cm)\": 1.6, \"petal width (cm)\": 0.2, \"target\": 0}, {\"sepal length (cm)\": 5.4, \"sepal width (cm)\": 3.4, \"petal length (cm)\": 1.5, \"petal width (cm)\": 0.4, \"target\": 0}, {\"sepal length (cm)\": 5.2, \"sepal width (cm)\": 4.1, \"petal length (cm)\": 1.5, \"petal width (cm)\": 0.1, \"target\": 0}, {\"sepal length (cm)\": 5.5, \"sepal width (cm)\": 4.2, \"petal length (cm)\": 1.4, \"petal width (cm)\": 0.2, \"target\": 0}, {\"sepal length (cm)\": 4.9, \"sepal width (cm)\": 3.1, \"petal length (cm)\": 1.5, \"petal width (cm)\": 0.2, \"target\": 0}, {\"sepal length (cm)\": 5.0, \"sepal width (cm)\": 3.2, \"petal length (cm)\": 1.2, \"petal width (cm)\": 0.2, \"target\": 0}, {\"sepal length (cm)\": 5.5, \"sepal width (cm)\": 3.5, \"petal length (cm)\": 1.3, \"petal width (cm)\": 0.2, \"target\": 0}, {\"sepal length (cm)\": 4.9, \"sepal width (cm)\": 3.6, \"petal length (cm)\": 1.4, \"petal width (cm)\": 0.1, \"target\": 0}, {\"sepal length (cm)\": 4.4, \"sepal width (cm)\": 3.0, \"petal length (cm)\": 1.3, \"petal width (cm)\": 0.2, \"target\": 0}, {\"sepal length (cm)\": 5.1, \"sepal width (cm)\": 3.4, \"petal length (cm)\": 1.5, \"petal width (cm)\": 0.2, \"target\": 0}, {\"sepal length (cm)\": 5.0, \"sepal width (cm)\": 3.5, \"petal length (cm)\": 1.3, \"petal width (cm)\": 0.3, \"target\": 0}, {\"sepal length (cm)\": 4.5, \"sepal width (cm)\": 2.3, \"petal length (cm)\": 1.3, \"petal width (cm)\": 0.3, \"target\": 0}, {\"sepal length (cm)\": 4.4, \"sepal width (cm)\": 3.2, \"petal length (cm)\": 1.3, \"petal width (cm)\": 0.2, \"target\": 0}, {\"sepal length (cm)\": 5.0, \"sepal width (cm)\": 3.5, \"petal length (cm)\": 1.6, \"petal width (cm)\": 0.6, \"target\": 0}, {\"sepal length (cm)\": 5.1, \"sepal width (cm)\": 3.8, \"petal length (cm)\": 1.9, \"petal width (cm)\": 0.4, \"target\": 0}, {\"sepal length (cm)\": 4.8, \"sepal width (cm)\": 3.0, \"petal length (cm)\": 1.4, \"petal width (cm)\": 0.3, \"target\": 0}, {\"sepal length (cm)\": 5.1, \"sepal width (cm)\": 3.8, \"petal length (cm)\": 1.6, \"petal width (cm)\": 0.2, \"target\": 0}, {\"sepal length (cm)\": 4.6, \"sepal width (cm)\": 3.2, \"petal length (cm)\": 1.4, \"petal width (cm)\": 0.2, \"target\": 0}, {\"sepal length (cm)\": 5.3, \"sepal width (cm)\": 3.7, \"petal length (cm)\": 1.5, \"petal width (cm)\": 0.2, \"target\": 0}, {\"sepal length (cm)\": 5.0, \"sepal width (cm)\": 3.3, \"petal length (cm)\": 1.4, \"petal width (cm)\": 0.2, \"target\": 0}, {\"sepal length (cm)\": 7.0, \"sepal width (cm)\": 3.2, \"petal length (cm)\": 4.7, \"petal width (cm)\": 1.4, \"target\": 1}, {\"sepal length (cm)\": 6.4, \"sepal width (cm)\": 3.2, \"petal length (cm)\": 4.5, \"petal width (cm)\": 1.5, \"target\": 1}, {\"sepal length (cm)\": 6.9, \"sepal width (cm)\": 3.1, \"petal length (cm)\": 4.9, \"petal width (cm)\": 1.5, \"target\": 1}, {\"sepal length (cm)\": 5.5, \"sepal width (cm)\": 2.3, \"petal length (cm)\": 4.0, \"petal width (cm)\": 1.3, \"target\": 1}, {\"sepal length (cm)\": 6.5, \"sepal width (cm)\": 2.8, \"petal length (cm)\": 4.6, \"petal width (cm)\": 1.5, \"target\": 1}, {\"sepal length (cm)\": 5.7, \"sepal width (cm)\": 2.8, \"petal length (cm)\": 4.5, \"petal width (cm)\": 1.3, \"target\": 1}, {\"sepal length (cm)\": 6.3, \"sepal width (cm)\": 3.3, \"petal length (cm)\": 4.7, \"petal width (cm)\": 1.6, \"target\": 1}, {\"sepal length (cm)\": 4.9, \"sepal width (cm)\": 2.4, \"petal length (cm)\": 3.3, \"petal width (cm)\": 1.0, \"target\": 1}, {\"sepal length (cm)\": 6.6, \"sepal width (cm)\": 2.9, \"petal length (cm)\": 4.6, \"petal width (cm)\": 1.3, \"target\": 1}, {\"sepal length (cm)\": 5.2, \"sepal width (cm)\": 2.7, \"petal length (cm)\": 3.9, \"petal width (cm)\": 1.4, \"target\": 1}, {\"sepal length (cm)\": 5.0, \"sepal width (cm)\": 2.0, \"petal length (cm)\": 3.5, \"petal width (cm)\": 1.0, \"target\": 1}, {\"sepal length (cm)\": 5.9, \"sepal width (cm)\": 3.0, \"petal length (cm)\": 4.2, \"petal width (cm)\": 1.5, \"target\": 1}, {\"sepal length (cm)\": 6.0, \"sepal width (cm)\": 2.2, \"petal length (cm)\": 4.0, \"petal width (cm)\": 1.0, \"target\": 1}, {\"sepal length (cm)\": 6.1, \"sepal width (cm)\": 2.9, \"petal length (cm)\": 4.7, \"petal width (cm)\": 1.4, \"target\": 1}, {\"sepal length (cm)\": 5.6, \"sepal width (cm)\": 2.9, \"petal length (cm)\": 3.6, \"petal width (cm)\": 1.3, \"target\": 1}, {\"sepal length (cm)\": 6.7, \"sepal width (cm)\": 3.1, \"petal length (cm)\": 4.4, \"petal width (cm)\": 1.4, \"target\": 1}, {\"sepal length (cm)\": 5.6, \"sepal width (cm)\": 3.0, \"petal length (cm)\": 4.5, \"petal width (cm)\": 1.5, \"target\": 1}, {\"sepal length (cm)\": 5.8, \"sepal width (cm)\": 2.7, \"petal length (cm)\": 4.1, \"petal width (cm)\": 1.0, \"target\": 1}, {\"sepal length (cm)\": 6.2, \"sepal width (cm)\": 2.2, \"petal length (cm)\": 4.5, \"petal width (cm)\": 1.5, \"target\": 1}, {\"sepal length (cm)\": 5.6, \"sepal width (cm)\": 2.5, \"petal length (cm)\": 3.9, \"petal width (cm)\": 1.1, \"target\": 1}, {\"sepal length (cm)\": 5.9, \"sepal width (cm)\": 3.2, \"petal length (cm)\": 4.8, \"petal width (cm)\": 1.8, \"target\": 1}, {\"sepal length (cm)\": 6.1, \"sepal width (cm)\": 2.8, \"petal length (cm)\": 4.0, \"petal width (cm)\": 1.3, \"target\": 1}, {\"sepal length (cm)\": 6.3, \"sepal width (cm)\": 2.5, \"petal length (cm)\": 4.9, \"petal width (cm)\": 1.5, \"target\": 1}, {\"sepal length (cm)\": 6.1, \"sepal width (cm)\": 2.8, \"petal length (cm)\": 4.7, \"petal width (cm)\": 1.2, \"target\": 1}, {\"sepal length (cm)\": 6.4, \"sepal width (cm)\": 2.9, \"petal length (cm)\": 4.3, \"petal width (cm)\": 1.3, \"target\": 1}, {\"sepal length (cm)\": 6.6, \"sepal width (cm)\": 3.0, \"petal length (cm)\": 4.4, \"petal width (cm)\": 1.4, \"target\": 1}, {\"sepal length (cm)\": 6.8, \"sepal width (cm)\": 2.8, \"petal length (cm)\": 4.8, \"petal width (cm)\": 1.4, \"target\": 1}, {\"sepal length (cm)\": 6.7, \"sepal width (cm)\": 3.0, \"petal length (cm)\": 5.0, \"petal width (cm)\": 1.7, \"target\": 1}, {\"sepal length (cm)\": 6.0, \"sepal width (cm)\": 2.9, \"petal length (cm)\": 4.5, \"petal width (cm)\": 1.5, \"target\": 1}, {\"sepal length (cm)\": 5.7, \"sepal width (cm)\": 2.6, \"petal length (cm)\": 3.5, \"petal width (cm)\": 1.0, \"target\": 1}, {\"sepal length (cm)\": 5.5, \"sepal width (cm)\": 2.4, \"petal length (cm)\": 3.8, \"petal width (cm)\": 1.1, \"target\": 1}, {\"sepal length (cm)\": 5.5, \"sepal width (cm)\": 2.4, \"petal length (cm)\": 3.7, \"petal width (cm)\": 1.0, \"target\": 1}, {\"sepal length (cm)\": 5.8, \"sepal width (cm)\": 2.7, \"petal length (cm)\": 3.9, \"petal width (cm)\": 1.2, \"target\": 1}, {\"sepal length (cm)\": 6.0, \"sepal width (cm)\": 2.7, \"petal length (cm)\": 5.1, \"petal width (cm)\": 1.6, \"target\": 1}, {\"sepal length (cm)\": 5.4, \"sepal width (cm)\": 3.0, \"petal length (cm)\": 4.5, \"petal width (cm)\": 1.5, \"target\": 1}, {\"sepal length (cm)\": 6.0, \"sepal width (cm)\": 3.4, \"petal length (cm)\": 4.5, \"petal width (cm)\": 1.6, \"target\": 1}, {\"sepal length (cm)\": 6.7, \"sepal width (cm)\": 3.1, \"petal length (cm)\": 4.7, \"petal width (cm)\": 1.5, \"target\": 1}, {\"sepal length (cm)\": 6.3, \"sepal width (cm)\": 2.3, \"petal length (cm)\": 4.4, \"petal width (cm)\": 1.3, \"target\": 1}, {\"sepal length (cm)\": 5.6, \"sepal width (cm)\": 3.0, \"petal length (cm)\": 4.1, \"petal width (cm)\": 1.3, \"target\": 1}, {\"sepal length (cm)\": 5.5, \"sepal width (cm)\": 2.5, \"petal length (cm)\": 4.0, \"petal width (cm)\": 1.3, \"target\": 1}, {\"sepal length (cm)\": 5.5, \"sepal width (cm)\": 2.6, \"petal length (cm)\": 4.4, \"petal width (cm)\": 1.2, \"target\": 1}, {\"sepal length (cm)\": 6.1, \"sepal width (cm)\": 3.0, \"petal length (cm)\": 4.6, \"petal width (cm)\": 1.4, \"target\": 1}, {\"sepal length (cm)\": 5.8, \"sepal width (cm)\": 2.6, \"petal length (cm)\": 4.0, \"petal width (cm)\": 1.2, \"target\": 1}, {\"sepal length (cm)\": 5.0, \"sepal width (cm)\": 2.3, \"petal length (cm)\": 3.3, \"petal width (cm)\": 1.0, \"target\": 1}, {\"sepal length (cm)\": 5.6, \"sepal width (cm)\": 2.7, \"petal length (cm)\": 4.2, \"petal width (cm)\": 1.3, \"target\": 1}, {\"sepal length (cm)\": 5.7, \"sepal width (cm)\": 3.0, \"petal length (cm)\": 4.2, \"petal width (cm)\": 1.2, \"target\": 1}, {\"sepal length (cm)\": 5.7, \"sepal width (cm)\": 2.9, \"petal length (cm)\": 4.2, \"petal width (cm)\": 1.3, \"target\": 1}, {\"sepal length (cm)\": 6.2, \"sepal width (cm)\": 2.9, \"petal length (cm)\": 4.3, \"petal width (cm)\": 1.3, \"target\": 1}, {\"sepal length (cm)\": 5.1, \"sepal width (cm)\": 2.5, \"petal length (cm)\": 3.0, \"petal width (cm)\": 1.1, \"target\": 1}, {\"sepal length (cm)\": 5.7, \"sepal width (cm)\": 2.8, \"petal length (cm)\": 4.1, \"petal width (cm)\": 1.3, \"target\": 1}, {\"sepal length (cm)\": 6.3, \"sepal width (cm)\": 3.3, \"petal length (cm)\": 6.0, \"petal width (cm)\": 2.5, \"target\": 2}, {\"sepal length (cm)\": 5.8, \"sepal width (cm)\": 2.7, \"petal length (cm)\": 5.1, \"petal width (cm)\": 1.9, \"target\": 2}, {\"sepal length (cm)\": 7.1, \"sepal width (cm)\": 3.0, \"petal length (cm)\": 5.9, \"petal width (cm)\": 2.1, \"target\": 2}, {\"sepal length (cm)\": 6.3, \"sepal width (cm)\": 2.9, \"petal length (cm)\": 5.6, \"petal width (cm)\": 1.8, \"target\": 2}, {\"sepal length (cm)\": 6.5, \"sepal width (cm)\": 3.0, \"petal length (cm)\": 5.8, \"petal width (cm)\": 2.2, \"target\": 2}, {\"sepal length (cm)\": 7.6, \"sepal width (cm)\": 3.0, \"petal length (cm)\": 6.6, \"petal width (cm)\": 2.1, \"target\": 2}, {\"sepal length (cm)\": 4.9, \"sepal width (cm)\": 2.5, \"petal length (cm)\": 4.5, \"petal width (cm)\": 1.7, \"target\": 2}, {\"sepal length (cm)\": 7.3, \"sepal width (cm)\": 2.9, \"petal length (cm)\": 6.3, \"petal width (cm)\": 1.8, \"target\": 2}, {\"sepal length (cm)\": 6.7, \"sepal width (cm)\": 2.5, \"petal length (cm)\": 5.8, \"petal width (cm)\": 1.8, \"target\": 2}, {\"sepal length (cm)\": 7.2, \"sepal width (cm)\": 3.6, \"petal length (cm)\": 6.1, \"petal width (cm)\": 2.5, \"target\": 2}, {\"sepal length (cm)\": 6.5, \"sepal width (cm)\": 3.2, \"petal length (cm)\": 5.1, \"petal width (cm)\": 2.0, \"target\": 2}, {\"sepal length (cm)\": 6.4, \"sepal width (cm)\": 2.7, \"petal length (cm)\": 5.3, \"petal width (cm)\": 1.9, \"target\": 2}, {\"sepal length (cm)\": 6.8, \"sepal width (cm)\": 3.0, \"petal length (cm)\": 5.5, \"petal width (cm)\": 2.1, \"target\": 2}, {\"sepal length (cm)\": 5.7, \"sepal width (cm)\": 2.5, \"petal length (cm)\": 5.0, \"petal width (cm)\": 2.0, \"target\": 2}, {\"sepal length (cm)\": 5.8, \"sepal width (cm)\": 2.8, \"petal length (cm)\": 5.1, \"petal width (cm)\": 2.4, \"target\": 2}, {\"sepal length (cm)\": 6.4, \"sepal width (cm)\": 3.2, \"petal length (cm)\": 5.3, \"petal width (cm)\": 2.3, \"target\": 2}, {\"sepal length (cm)\": 6.5, \"sepal width (cm)\": 3.0, \"petal length (cm)\": 5.5, \"petal width (cm)\": 1.8, \"target\": 2}, {\"sepal length (cm)\": 7.7, \"sepal width (cm)\": 3.8, \"petal length (cm)\": 6.7, \"petal width (cm)\": 2.2, \"target\": 2}, {\"sepal length (cm)\": 7.7, \"sepal width (cm)\": 2.6, \"petal length (cm)\": 6.9, \"petal width (cm)\": 2.3, \"target\": 2}, {\"sepal length (cm)\": 6.0, \"sepal width (cm)\": 2.2, \"petal length (cm)\": 5.0, \"petal width (cm)\": 1.5, \"target\": 2}, {\"sepal length (cm)\": 6.9, \"sepal width (cm)\": 3.2, \"petal length (cm)\": 5.7, \"petal width (cm)\": 2.3, \"target\": 2}, {\"sepal length (cm)\": 5.6, \"sepal width (cm)\": 2.8, \"petal length (cm)\": 4.9, \"petal width (cm)\": 2.0, \"target\": 2}, {\"sepal length (cm)\": 7.7, \"sepal width (cm)\": 2.8, \"petal length (cm)\": 6.7, \"petal width (cm)\": 2.0, \"target\": 2}, {\"sepal length (cm)\": 6.3, \"sepal width (cm)\": 2.7, \"petal length (cm)\": 4.9, \"petal width (cm)\": 1.8, \"target\": 2}, {\"sepal length (cm)\": 6.7, \"sepal width (cm)\": 3.3, \"petal length (cm)\": 5.7, \"petal width (cm)\": 2.1, \"target\": 2}, {\"sepal length (cm)\": 7.2, \"sepal width (cm)\": 3.2, \"petal length (cm)\": 6.0, \"petal width (cm)\": 1.8, \"target\": 2}, {\"sepal length (cm)\": 6.2, \"sepal width (cm)\": 2.8, \"petal length (cm)\": 4.8, \"petal width (cm)\": 1.8, \"target\": 2}, {\"sepal length (cm)\": 6.1, \"sepal width (cm)\": 3.0, \"petal length (cm)\": 4.9, \"petal width (cm)\": 1.8, \"target\": 2}, {\"sepal length (cm)\": 6.4, \"sepal width (cm)\": 2.8, \"petal length (cm)\": 5.6, \"petal width (cm)\": 2.1, \"target\": 2}, {\"sepal length (cm)\": 7.2, \"sepal width (cm)\": 3.0, \"petal length (cm)\": 5.8, \"petal width (cm)\": 1.6, \"target\": 2}, {\"sepal length (cm)\": 7.4, \"sepal width (cm)\": 2.8, \"petal length (cm)\": 6.1, \"petal width (cm)\": 1.9, \"target\": 2}, {\"sepal length (cm)\": 7.9, \"sepal width (cm)\": 3.8, \"petal length (cm)\": 6.4, \"petal width (cm)\": 2.0, \"target\": 2}, {\"sepal length (cm)\": 6.4, \"sepal width (cm)\": 2.8, \"petal length (cm)\": 5.6, \"petal width (cm)\": 2.2, \"target\": 2}, {\"sepal length (cm)\": 6.3, \"sepal width (cm)\": 2.8, \"petal length (cm)\": 5.1, \"petal width (cm)\": 1.5, \"target\": 2}, {\"sepal length (cm)\": 6.1, \"sepal width (cm)\": 2.6, \"petal length (cm)\": 5.6, \"petal width (cm)\": 1.4, \"target\": 2}, {\"sepal length (cm)\": 7.7, \"sepal width (cm)\": 3.0, \"petal length (cm)\": 6.1, \"petal width (cm)\": 2.3, \"target\": 2}, {\"sepal length (cm)\": 6.3, \"sepal width (cm)\": 3.4, \"petal length (cm)\": 5.6, \"petal width (cm)\": 2.4, \"target\": 2}, {\"sepal length (cm)\": 6.4, \"sepal width (cm)\": 3.1, \"petal length (cm)\": 5.5, \"petal width (cm)\": 1.8, \"target\": 2}, {\"sepal length (cm)\": 6.0, \"sepal width (cm)\": 3.0, \"petal length (cm)\": 4.8, \"petal width (cm)\": 1.8, \"target\": 2}, {\"sepal length (cm)\": 6.9, \"sepal width (cm)\": 3.1, \"petal length (cm)\": 5.4, \"petal width (cm)\": 2.1, \"target\": 2}, {\"sepal length (cm)\": 6.7, \"sepal width (cm)\": 3.1, \"petal length (cm)\": 5.6, \"petal width (cm)\": 2.4, \"target\": 2}, {\"sepal length (cm)\": 6.9, \"sepal width (cm)\": 3.1, \"petal length (cm)\": 5.1, \"petal width (cm)\": 2.3, \"target\": 2}, {\"sepal length (cm)\": 5.8, \"sepal width (cm)\": 2.7, \"petal length (cm)\": 5.1, \"petal width (cm)\": 1.9, \"target\": 2}, {\"sepal length (cm)\": 6.8, \"sepal width (cm)\": 3.2, \"petal length (cm)\": 5.9, \"petal width (cm)\": 2.3, \"target\": 2}, {\"sepal length (cm)\": 6.7, \"sepal width (cm)\": 3.3, \"petal length (cm)\": 5.7, \"petal width (cm)\": 2.5, \"target\": 2}, {\"sepal length (cm)\": 6.7, \"sepal width (cm)\": 3.0, \"petal length (cm)\": 5.2, \"petal width (cm)\": 2.3, \"target\": 2}, {\"sepal length (cm)\": 6.3, \"sepal width (cm)\": 2.5, \"petal length (cm)\": 5.0, \"petal width (cm)\": 1.9, \"target\": 2}, {\"sepal length (cm)\": 6.5, \"sepal width (cm)\": 3.0, \"petal length (cm)\": 5.2, \"petal width (cm)\": 2.0, \"target\": 2}, {\"sepal length (cm)\": 6.2, \"sepal width (cm)\": 3.4, \"petal length (cm)\": 5.4, \"petal width (cm)\": 2.3, \"target\": 2}, {\"sepal length (cm)\": 5.9, \"sepal width (cm)\": 3.0, \"petal length (cm)\": 5.1, \"petal width (cm)\": 1.8, \"target\": 2}], \"data-e1807c03a4cd44aa388fcfce5b7102b2\": [{\"sepal length (cm)\": 5.1, \"sepal width (cm)\": 3.5, \"petal length (cm)\": 1.4, \"petal width (cm)\": 0.2, \"target\": 0}, {\"sepal length (cm)\": 4.9, \"sepal width (cm)\": 3.0, \"petal length (cm)\": 1.4, \"petal width (cm)\": 0.2, \"target\": 0}, {\"sepal length (cm)\": 4.7, \"sepal width (cm)\": 3.2, \"petal length (cm)\": 1.3, \"petal width (cm)\": 0.2, \"target\": 0}, {\"sepal length (cm)\": 4.6, \"sepal width (cm)\": 3.1, \"petal length (cm)\": 1.5, \"petal width (cm)\": 0.2, \"target\": 0}, {\"sepal length (cm)\": 5.0, \"sepal width (cm)\": 3.6, \"petal length (cm)\": 1.4, \"petal width (cm)\": 0.2, \"target\": 0}, {\"sepal length (cm)\": 5.4, \"sepal width (cm)\": 3.9, \"petal length (cm)\": 1.7, \"petal width (cm)\": 0.4, \"target\": 0}, {\"sepal length (cm)\": 4.6, \"sepal width (cm)\": 3.4, \"petal length (cm)\": 1.4, \"petal width (cm)\": 0.3, \"target\": 0}, {\"sepal length (cm)\": 5.0, \"sepal width (cm)\": 3.4, \"petal length (cm)\": 1.5, \"petal width (cm)\": 0.2, \"target\": 0}, {\"sepal length (cm)\": 4.4, \"sepal width (cm)\": 2.9, \"petal length (cm)\": 1.4, \"petal width (cm)\": 0.2, \"target\": 0}, {\"sepal length (cm)\": 4.9, \"sepal width (cm)\": 3.1, \"petal length (cm)\": 1.5, \"petal width (cm)\": 0.1, \"target\": 0}, {\"sepal length (cm)\": 5.4, \"sepal width (cm)\": 3.7, \"petal length (cm)\": 1.5, \"petal width (cm)\": 0.2, \"target\": 0}, {\"sepal length (cm)\": 4.8, \"sepal width (cm)\": 3.4, \"petal length (cm)\": 1.6, \"petal width (cm)\": 0.2, \"target\": 0}, {\"sepal length (cm)\": 4.8, \"sepal width (cm)\": 3.0, \"petal length (cm)\": 1.4, \"petal width (cm)\": 0.1, \"target\": 0}, {\"sepal length (cm)\": 4.3, \"sepal width (cm)\": 3.0, \"petal length (cm)\": 1.1, \"petal width (cm)\": 0.1, \"target\": 0}, {\"sepal length (cm)\": 5.8, \"sepal width (cm)\": 4.0, \"petal length (cm)\": 1.2, \"petal width (cm)\": 0.2, \"target\": 0}, {\"sepal length (cm)\": 5.7, \"sepal width (cm)\": 4.4, \"petal length (cm)\": 1.5, \"petal width (cm)\": 0.4, \"target\": 0}, {\"sepal length (cm)\": 5.4, \"sepal width (cm)\": 3.9, \"petal length (cm)\": 1.3, \"petal width (cm)\": 0.4, \"target\": 0}, {\"sepal length (cm)\": 5.1, \"sepal width (cm)\": 3.5, \"petal length (cm)\": 1.4, \"petal width (cm)\": 0.3, \"target\": 0}, {\"sepal length (cm)\": 5.7, \"sepal width (cm)\": 3.8, \"petal length (cm)\": 1.7, \"petal width (cm)\": 0.3, \"target\": 0}, {\"sepal length (cm)\": 5.1, \"sepal width (cm)\": 3.8, \"petal length (cm)\": 1.5, \"petal width (cm)\": 0.3, \"target\": 0}, {\"sepal length (cm)\": 5.4, \"sepal width (cm)\": 3.4, \"petal length (cm)\": 1.7, \"petal width (cm)\": 0.2, \"target\": 0}, {\"sepal length (cm)\": 5.1, \"sepal width (cm)\": 3.7, \"petal length (cm)\": 1.5, \"petal width (cm)\": 0.4, \"target\": 0}, {\"sepal length (cm)\": 4.6, \"sepal width (cm)\": 3.6, \"petal length (cm)\": 1.0, \"petal width (cm)\": 0.2, \"target\": 0}, {\"sepal length (cm)\": 5.1, \"sepal width (cm)\": 3.3, \"petal length (cm)\": 1.7, \"petal width (cm)\": 0.5, \"target\": 0}, {\"sepal length (cm)\": 4.8, \"sepal width (cm)\": 3.4, \"petal length (cm)\": 1.9, \"petal width (cm)\": 0.2, \"target\": 0}, {\"sepal length (cm)\": 5.0, \"sepal width (cm)\": 3.0, \"petal length (cm)\": 1.6, \"petal width (cm)\": 0.2, \"target\": 0}, {\"sepal length (cm)\": 5.0, \"sepal width (cm)\": 3.4, \"petal length (cm)\": 1.6, \"petal width (cm)\": 0.4, \"target\": 0}, {\"sepal length (cm)\": 5.2, \"sepal width (cm)\": 3.5, \"petal length (cm)\": 1.5, \"petal width (cm)\": 0.2, \"target\": 0}, {\"sepal length (cm)\": 5.2, \"sepal width (cm)\": 3.4, \"petal length (cm)\": 1.4, \"petal width (cm)\": 0.2, \"target\": 0}, {\"sepal length (cm)\": 4.7, \"sepal width (cm)\": 3.2, \"petal length (cm)\": 1.6, \"petal width (cm)\": 0.2, \"target\": 0}, {\"sepal length (cm)\": 4.8, \"sepal width (cm)\": 3.1, \"petal length (cm)\": 1.6, \"petal width (cm)\": 0.2, \"target\": 0}, {\"sepal length (cm)\": 5.4, \"sepal width (cm)\": 3.4, \"petal length (cm)\": 1.5, \"petal width (cm)\": 0.4, \"target\": 0}, {\"sepal length (cm)\": 5.2, \"sepal width (cm)\": 4.1, \"petal length (cm)\": 1.5, \"petal width (cm)\": 0.1, \"target\": 0}, {\"sepal length (cm)\": 5.5, \"sepal width (cm)\": 4.2, \"petal length (cm)\": 1.4, \"petal width (cm)\": 0.2, \"target\": 0}, {\"sepal length (cm)\": 4.9, \"sepal width (cm)\": 3.1, \"petal length (cm)\": 1.5, \"petal width (cm)\": 0.2, \"target\": 0}, {\"sepal length (cm)\": 5.0, \"sepal width (cm)\": 3.2, \"petal length (cm)\": 1.2, \"petal width (cm)\": 0.2, \"target\": 0}, {\"sepal length (cm)\": 5.5, \"sepal width (cm)\": 3.5, \"petal length (cm)\": 1.3, \"petal width (cm)\": 0.2, \"target\": 0}, {\"sepal length (cm)\": 4.9, \"sepal width (cm)\": 3.6, \"petal length (cm)\": 1.4, \"petal width (cm)\": 0.1, \"target\": 0}, {\"sepal length (cm)\": 4.4, \"sepal width (cm)\": 3.0, \"petal length (cm)\": 1.3, \"petal width (cm)\": 0.2, \"target\": 0}, {\"sepal length (cm)\": 5.1, \"sepal width (cm)\": 3.4, \"petal length (cm)\": 1.5, \"petal width (cm)\": 0.2, \"target\": 0}, {\"sepal length (cm)\": 5.0, \"sepal width (cm)\": 3.5, \"petal length (cm)\": 1.3, \"petal width (cm)\": 0.3, \"target\": 0}, {\"sepal length (cm)\": 4.5, \"sepal width (cm)\": 2.3, \"petal length (cm)\": 1.3, \"petal width (cm)\": 0.3, \"target\": 0}, {\"sepal length (cm)\": 4.4, \"sepal width (cm)\": 3.2, \"petal length (cm)\": 1.3, \"petal width (cm)\": 0.2, \"target\": 0}, {\"sepal length (cm)\": 5.0, \"sepal width (cm)\": 3.5, \"petal length (cm)\": 1.6, \"petal width (cm)\": 0.6, \"target\": 0}, {\"sepal length (cm)\": 5.1, \"sepal width (cm)\": 3.8, \"petal length (cm)\": 1.9, \"petal width (cm)\": 0.4, \"target\": 0}, {\"sepal length (cm)\": 4.8, \"sepal width (cm)\": 3.0, \"petal length (cm)\": 1.4, \"petal width (cm)\": 0.3, \"target\": 0}, {\"sepal length (cm)\": 5.1, \"sepal width (cm)\": 3.8, \"petal length (cm)\": 1.6, \"petal width (cm)\": 0.2, \"target\": 0}, {\"sepal length (cm)\": 4.6, \"sepal width (cm)\": 3.2, \"petal length (cm)\": 1.4, \"petal width (cm)\": 0.2, \"target\": 0}, {\"sepal length (cm)\": 5.3, \"sepal width (cm)\": 3.7, \"petal length (cm)\": 1.5, \"petal width (cm)\": 0.2, \"target\": 0}, {\"sepal length (cm)\": 5.0, \"sepal width (cm)\": 3.3, \"petal length (cm)\": 1.4, \"petal width (cm)\": 0.2, \"target\": 0}], \"data-cdd8bcd9511d6bc16d875782c3ae9a84\": [{\"sepal length (cm)\": 7.0, \"sepal width (cm)\": 3.2, \"petal length (cm)\": 4.7, \"petal width (cm)\": 1.4, \"target\": 1}, {\"sepal length (cm)\": 6.4, \"sepal width (cm)\": 3.2, \"petal length (cm)\": 4.5, \"petal width (cm)\": 1.5, \"target\": 1}, {\"sepal length (cm)\": 6.9, \"sepal width (cm)\": 3.1, \"petal length (cm)\": 4.9, \"petal width (cm)\": 1.5, \"target\": 1}, {\"sepal length (cm)\": 5.5, \"sepal width (cm)\": 2.3, \"petal length (cm)\": 4.0, \"petal width (cm)\": 1.3, \"target\": 1}, {\"sepal length (cm)\": 6.5, \"sepal width (cm)\": 2.8, \"petal length (cm)\": 4.6, \"petal width (cm)\": 1.5, \"target\": 1}, {\"sepal length (cm)\": 5.7, \"sepal width (cm)\": 2.8, \"petal length (cm)\": 4.5, \"petal width (cm)\": 1.3, \"target\": 1}, {\"sepal length (cm)\": 6.3, \"sepal width (cm)\": 3.3, \"petal length (cm)\": 4.7, \"petal width (cm)\": 1.6, \"target\": 1}, {\"sepal length (cm)\": 4.9, \"sepal width (cm)\": 2.4, \"petal length (cm)\": 3.3, \"petal width (cm)\": 1.0, \"target\": 1}, {\"sepal length (cm)\": 6.6, \"sepal width (cm)\": 2.9, \"petal length (cm)\": 4.6, \"petal width (cm)\": 1.3, \"target\": 1}, {\"sepal length (cm)\": 5.2, \"sepal width (cm)\": 2.7, \"petal length (cm)\": 3.9, \"petal width (cm)\": 1.4, \"target\": 1}, {\"sepal length (cm)\": 5.0, \"sepal width (cm)\": 2.0, \"petal length (cm)\": 3.5, \"petal width (cm)\": 1.0, \"target\": 1}, {\"sepal length (cm)\": 5.9, \"sepal width (cm)\": 3.0, \"petal length (cm)\": 4.2, \"petal width (cm)\": 1.5, \"target\": 1}, {\"sepal length (cm)\": 6.0, \"sepal width (cm)\": 2.2, \"petal length (cm)\": 4.0, \"petal width (cm)\": 1.0, \"target\": 1}, {\"sepal length (cm)\": 6.1, \"sepal width (cm)\": 2.9, \"petal length (cm)\": 4.7, \"petal width (cm)\": 1.4, \"target\": 1}, {\"sepal length (cm)\": 5.6, \"sepal width (cm)\": 2.9, \"petal length (cm)\": 3.6, \"petal width (cm)\": 1.3, \"target\": 1}, {\"sepal length (cm)\": 6.7, \"sepal width (cm)\": 3.1, \"petal length (cm)\": 4.4, \"petal width (cm)\": 1.4, \"target\": 1}, {\"sepal length (cm)\": 5.6, \"sepal width (cm)\": 3.0, \"petal length (cm)\": 4.5, \"petal width (cm)\": 1.5, \"target\": 1}, {\"sepal length (cm)\": 5.8, \"sepal width (cm)\": 2.7, \"petal length (cm)\": 4.1, \"petal width (cm)\": 1.0, \"target\": 1}, {\"sepal length (cm)\": 6.2, \"sepal width (cm)\": 2.2, \"petal length (cm)\": 4.5, \"petal width (cm)\": 1.5, \"target\": 1}, {\"sepal length (cm)\": 5.6, \"sepal width (cm)\": 2.5, \"petal length (cm)\": 3.9, \"petal width (cm)\": 1.1, \"target\": 1}, {\"sepal length (cm)\": 5.9, \"sepal width (cm)\": 3.2, \"petal length (cm)\": 4.8, \"petal width (cm)\": 1.8, \"target\": 1}, {\"sepal length (cm)\": 6.1, \"sepal width (cm)\": 2.8, \"petal length (cm)\": 4.0, \"petal width (cm)\": 1.3, \"target\": 1}, {\"sepal length (cm)\": 6.3, \"sepal width (cm)\": 2.5, \"petal length (cm)\": 4.9, \"petal width (cm)\": 1.5, \"target\": 1}, {\"sepal length (cm)\": 6.1, \"sepal width (cm)\": 2.8, \"petal length (cm)\": 4.7, \"petal width (cm)\": 1.2, \"target\": 1}, {\"sepal length (cm)\": 6.4, \"sepal width (cm)\": 2.9, \"petal length (cm)\": 4.3, \"petal width (cm)\": 1.3, \"target\": 1}, {\"sepal length (cm)\": 6.6, \"sepal width (cm)\": 3.0, \"petal length (cm)\": 4.4, \"petal width (cm)\": 1.4, \"target\": 1}, {\"sepal length (cm)\": 6.8, \"sepal width (cm)\": 2.8, \"petal length (cm)\": 4.8, \"petal width (cm)\": 1.4, \"target\": 1}, {\"sepal length (cm)\": 6.7, \"sepal width (cm)\": 3.0, \"petal length (cm)\": 5.0, \"petal width (cm)\": 1.7, \"target\": 1}, {\"sepal length (cm)\": 6.0, \"sepal width (cm)\": 2.9, \"petal length (cm)\": 4.5, \"petal width (cm)\": 1.5, \"target\": 1}, {\"sepal length (cm)\": 5.7, \"sepal width (cm)\": 2.6, \"petal length (cm)\": 3.5, \"petal width (cm)\": 1.0, \"target\": 1}, {\"sepal length (cm)\": 5.5, \"sepal width (cm)\": 2.4, \"petal length (cm)\": 3.8, \"petal width (cm)\": 1.1, \"target\": 1}, {\"sepal length (cm)\": 5.5, \"sepal width (cm)\": 2.4, \"petal length (cm)\": 3.7, \"petal width (cm)\": 1.0, \"target\": 1}, {\"sepal length (cm)\": 5.8, \"sepal width (cm)\": 2.7, \"petal length (cm)\": 3.9, \"petal width (cm)\": 1.2, \"target\": 1}, {\"sepal length (cm)\": 6.0, \"sepal width (cm)\": 2.7, \"petal length (cm)\": 5.1, \"petal width (cm)\": 1.6, \"target\": 1}, {\"sepal length (cm)\": 5.4, \"sepal width (cm)\": 3.0, \"petal length (cm)\": 4.5, \"petal width (cm)\": 1.5, \"target\": 1}, {\"sepal length (cm)\": 6.0, \"sepal width (cm)\": 3.4, \"petal length (cm)\": 4.5, \"petal width (cm)\": 1.6, \"target\": 1}, {\"sepal length (cm)\": 6.7, \"sepal width (cm)\": 3.1, \"petal length (cm)\": 4.7, \"petal width (cm)\": 1.5, \"target\": 1}, {\"sepal length (cm)\": 6.3, \"sepal width (cm)\": 2.3, \"petal length (cm)\": 4.4, \"petal width (cm)\": 1.3, \"target\": 1}, {\"sepal length (cm)\": 5.6, \"sepal width (cm)\": 3.0, \"petal length (cm)\": 4.1, \"petal width (cm)\": 1.3, \"target\": 1}, {\"sepal length (cm)\": 5.5, \"sepal width (cm)\": 2.5, \"petal length (cm)\": 4.0, \"petal width (cm)\": 1.3, \"target\": 1}, {\"sepal length (cm)\": 5.5, \"sepal width (cm)\": 2.6, \"petal length (cm)\": 4.4, \"petal width (cm)\": 1.2, \"target\": 1}, {\"sepal length (cm)\": 6.1, \"sepal width (cm)\": 3.0, \"petal length (cm)\": 4.6, \"petal width (cm)\": 1.4, \"target\": 1}, {\"sepal length (cm)\": 5.8, \"sepal width (cm)\": 2.6, \"petal length (cm)\": 4.0, \"petal width (cm)\": 1.2, \"target\": 1}, {\"sepal length (cm)\": 5.0, \"sepal width (cm)\": 2.3, \"petal length (cm)\": 3.3, \"petal width (cm)\": 1.0, \"target\": 1}, {\"sepal length (cm)\": 5.6, \"sepal width (cm)\": 2.7, \"petal length (cm)\": 4.2, \"petal width (cm)\": 1.3, \"target\": 1}, {\"sepal length (cm)\": 5.7, \"sepal width (cm)\": 3.0, \"petal length (cm)\": 4.2, \"petal width (cm)\": 1.2, \"target\": 1}, {\"sepal length (cm)\": 5.7, \"sepal width (cm)\": 2.9, \"petal length (cm)\": 4.2, \"petal width (cm)\": 1.3, \"target\": 1}, {\"sepal length (cm)\": 6.2, \"sepal width (cm)\": 2.9, \"petal length (cm)\": 4.3, \"petal width (cm)\": 1.3, \"target\": 1}, {\"sepal length (cm)\": 5.1, \"sepal width (cm)\": 2.5, \"petal length (cm)\": 3.0, \"petal width (cm)\": 1.1, \"target\": 1}, {\"sepal length (cm)\": 5.7, \"sepal width (cm)\": 2.8, \"petal length (cm)\": 4.1, \"petal width (cm)\": 1.3, \"target\": 1}], \"data-e5411bd19f6ffe3ad9fa9a9c10eb4855\": [{\"sepal length (cm)\": 6.3, \"sepal width (cm)\": 3.3, \"petal length (cm)\": 6.0, \"petal width (cm)\": 2.5, \"target\": 2}, {\"sepal length (cm)\": 5.8, \"sepal width (cm)\": 2.7, \"petal length (cm)\": 5.1, \"petal width (cm)\": 1.9, \"target\": 2}, {\"sepal length (cm)\": 7.1, \"sepal width (cm)\": 3.0, \"petal length (cm)\": 5.9, \"petal width (cm)\": 2.1, \"target\": 2}, {\"sepal length (cm)\": 6.3, \"sepal width (cm)\": 2.9, \"petal length (cm)\": 5.6, \"petal width (cm)\": 1.8, \"target\": 2}, {\"sepal length (cm)\": 6.5, \"sepal width (cm)\": 3.0, \"petal length (cm)\": 5.8, \"petal width (cm)\": 2.2, \"target\": 2}, {\"sepal length (cm)\": 7.6, \"sepal width (cm)\": 3.0, \"petal length (cm)\": 6.6, \"petal width (cm)\": 2.1, \"target\": 2}, {\"sepal length (cm)\": 4.9, \"sepal width (cm)\": 2.5, \"petal length (cm)\": 4.5, \"petal width (cm)\": 1.7, \"target\": 2}, {\"sepal length (cm)\": 7.3, \"sepal width (cm)\": 2.9, \"petal length (cm)\": 6.3, \"petal width (cm)\": 1.8, \"target\": 2}, {\"sepal length (cm)\": 6.7, \"sepal width (cm)\": 2.5, \"petal length (cm)\": 5.8, \"petal width (cm)\": 1.8, \"target\": 2}, {\"sepal length (cm)\": 7.2, \"sepal width (cm)\": 3.6, \"petal length (cm)\": 6.1, \"petal width (cm)\": 2.5, \"target\": 2}, {\"sepal length (cm)\": 6.5, \"sepal width (cm)\": 3.2, \"petal length (cm)\": 5.1, \"petal width (cm)\": 2.0, \"target\": 2}, {\"sepal length (cm)\": 6.4, \"sepal width (cm)\": 2.7, \"petal length (cm)\": 5.3, \"petal width (cm)\": 1.9, \"target\": 2}, {\"sepal length (cm)\": 6.8, \"sepal width (cm)\": 3.0, \"petal length (cm)\": 5.5, \"petal width (cm)\": 2.1, \"target\": 2}, {\"sepal length (cm)\": 5.7, \"sepal width (cm)\": 2.5, \"petal length (cm)\": 5.0, \"petal width (cm)\": 2.0, \"target\": 2}, {\"sepal length (cm)\": 5.8, \"sepal width (cm)\": 2.8, \"petal length (cm)\": 5.1, \"petal width (cm)\": 2.4, \"target\": 2}, {\"sepal length (cm)\": 6.4, \"sepal width (cm)\": 3.2, \"petal length (cm)\": 5.3, \"petal width (cm)\": 2.3, \"target\": 2}, {\"sepal length (cm)\": 6.5, \"sepal width (cm)\": 3.0, \"petal length (cm)\": 5.5, \"petal width (cm)\": 1.8, \"target\": 2}, {\"sepal length (cm)\": 7.7, \"sepal width (cm)\": 3.8, \"petal length (cm)\": 6.7, \"petal width (cm)\": 2.2, \"target\": 2}, {\"sepal length (cm)\": 7.7, \"sepal width (cm)\": 2.6, \"petal length (cm)\": 6.9, \"petal width (cm)\": 2.3, \"target\": 2}, {\"sepal length (cm)\": 6.0, \"sepal width (cm)\": 2.2, \"petal length (cm)\": 5.0, \"petal width (cm)\": 1.5, \"target\": 2}, {\"sepal length (cm)\": 6.9, \"sepal width (cm)\": 3.2, \"petal length (cm)\": 5.7, \"petal width (cm)\": 2.3, \"target\": 2}, {\"sepal length (cm)\": 5.6, \"sepal width (cm)\": 2.8, \"petal length (cm)\": 4.9, \"petal width (cm)\": 2.0, \"target\": 2}, {\"sepal length (cm)\": 7.7, \"sepal width (cm)\": 2.8, \"petal length (cm)\": 6.7, \"petal width (cm)\": 2.0, \"target\": 2}, {\"sepal length (cm)\": 6.3, \"sepal width (cm)\": 2.7, \"petal length (cm)\": 4.9, \"petal width (cm)\": 1.8, \"target\": 2}, {\"sepal length (cm)\": 6.7, \"sepal width (cm)\": 3.3, \"petal length (cm)\": 5.7, \"petal width (cm)\": 2.1, \"target\": 2}, {\"sepal length (cm)\": 7.2, \"sepal width (cm)\": 3.2, \"petal length (cm)\": 6.0, \"petal width (cm)\": 1.8, \"target\": 2}, {\"sepal length (cm)\": 6.2, \"sepal width (cm)\": 2.8, \"petal length (cm)\": 4.8, \"petal width (cm)\": 1.8, \"target\": 2}, {\"sepal length (cm)\": 6.1, \"sepal width (cm)\": 3.0, \"petal length (cm)\": 4.9, \"petal width (cm)\": 1.8, \"target\": 2}, {\"sepal length (cm)\": 6.4, \"sepal width (cm)\": 2.8, \"petal length (cm)\": 5.6, \"petal width (cm)\": 2.1, \"target\": 2}, {\"sepal length (cm)\": 7.2, \"sepal width (cm)\": 3.0, \"petal length (cm)\": 5.8, \"petal width (cm)\": 1.6, \"target\": 2}, {\"sepal length (cm)\": 7.4, \"sepal width (cm)\": 2.8, \"petal length (cm)\": 6.1, \"petal width (cm)\": 1.9, \"target\": 2}, {\"sepal length (cm)\": 7.9, \"sepal width (cm)\": 3.8, \"petal length (cm)\": 6.4, \"petal width (cm)\": 2.0, \"target\": 2}, {\"sepal length (cm)\": 6.4, \"sepal width (cm)\": 2.8, \"petal length (cm)\": 5.6, \"petal width (cm)\": 2.2, \"target\": 2}, {\"sepal length (cm)\": 6.3, \"sepal width (cm)\": 2.8, \"petal length (cm)\": 5.1, \"petal width (cm)\": 1.5, \"target\": 2}, {\"sepal length (cm)\": 6.1, \"sepal width (cm)\": 2.6, \"petal length (cm)\": 5.6, \"petal width (cm)\": 1.4, \"target\": 2}, {\"sepal length (cm)\": 7.7, \"sepal width (cm)\": 3.0, \"petal length (cm)\": 6.1, \"petal width (cm)\": 2.3, \"target\": 2}, {\"sepal length (cm)\": 6.3, \"sepal width (cm)\": 3.4, \"petal length (cm)\": 5.6, \"petal width (cm)\": 2.4, \"target\": 2}, {\"sepal length (cm)\": 6.4, \"sepal width (cm)\": 3.1, \"petal length (cm)\": 5.5, \"petal width (cm)\": 1.8, \"target\": 2}, {\"sepal length (cm)\": 6.0, \"sepal width (cm)\": 3.0, \"petal length (cm)\": 4.8, \"petal width (cm)\": 1.8, \"target\": 2}, {\"sepal length (cm)\": 6.9, \"sepal width (cm)\": 3.1, \"petal length (cm)\": 5.4, \"petal width (cm)\": 2.1, \"target\": 2}, {\"sepal length (cm)\": 6.7, \"sepal width (cm)\": 3.1, \"petal length (cm)\": 5.6, \"petal width (cm)\": 2.4, \"target\": 2}, {\"sepal length (cm)\": 6.9, \"sepal width (cm)\": 3.1, \"petal length (cm)\": 5.1, \"petal width (cm)\": 2.3, \"target\": 2}, {\"sepal length (cm)\": 5.8, \"sepal width (cm)\": 2.7, \"petal length (cm)\": 5.1, \"petal width (cm)\": 1.9, \"target\": 2}, {\"sepal length (cm)\": 6.8, \"sepal width (cm)\": 3.2, \"petal length (cm)\": 5.9, \"petal width (cm)\": 2.3, \"target\": 2}, {\"sepal length (cm)\": 6.7, \"sepal width (cm)\": 3.3, \"petal length (cm)\": 5.7, \"petal width (cm)\": 2.5, \"target\": 2}, {\"sepal length (cm)\": 6.7, \"sepal width (cm)\": 3.0, \"petal length (cm)\": 5.2, \"petal width (cm)\": 2.3, \"target\": 2}, {\"sepal length (cm)\": 6.3, \"sepal width (cm)\": 2.5, \"petal length (cm)\": 5.0, \"petal width (cm)\": 1.9, \"target\": 2}, {\"sepal length (cm)\": 6.5, \"sepal width (cm)\": 3.0, \"petal length (cm)\": 5.2, \"petal width (cm)\": 2.0, \"target\": 2}, {\"sepal length (cm)\": 6.2, \"sepal width (cm)\": 3.4, \"petal length (cm)\": 5.4, \"petal width (cm)\": 2.3, \"target\": 2}, {\"sepal length (cm)\": 5.9, \"sepal width (cm)\": 3.0, \"petal length (cm)\": 5.1, \"petal width (cm)\": 1.8, \"target\": 2}]}}, {\"mode\": \"vega-lite\"});\n",
              "</script>"
            ]
          },
          "metadata": {
            "tags": []
          },
          "execution_count": 150
        }
      ]
    },
    {
      "cell_type": "code",
      "metadata": {
        "id": "4YzmnhQI0YcD",
        "colab_type": "code",
        "colab": {}
      },
      "source": [
        ""
      ],
      "execution_count": 0,
      "outputs": []
    }
  ]
}